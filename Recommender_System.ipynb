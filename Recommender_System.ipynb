{
 "cells": [
  {
   "cell_type": "markdown",
   "id": "5e4b15da-8cfb-4d01-a668-246219e85cd4",
   "metadata": {},
   "source": [
    "# Recommender System using Spark"
   ]
  },
  {
   "cell_type": "code",
   "execution_count": null,
   "id": "d5fbf561-dc69-4800-b4af-69f7530f2f22",
   "metadata": {
    "tags": []
   },
   "outputs": [],
   "source": [
    "from pyspark.sql import functions as F\n",
    "from pyspark.sql import SparkSession\n",
    "from pyspark.sql.types import StructField, StructType, IntegerType, StringType\n",
    "from pyspark.sql.window import Window\n",
    "from pyspark.sql.functions import rank, col\n",
    "from operator import add\n",
    "import time\n",
    "import csv\n",
    "import re\n",
    "from tempfile import NamedTemporaryFile\n",
    "\n",
    "from pyspark.ml.evaluation import RegressionEvaluator\n",
    "from pyspark.ml.tuning import ParamGridBuilder, CrossValidator\n",
    "from pyspark.ml.recommendation import ALS\n",
    "from pyspark.ml.feature import StringIndexer\n",
    "from pyspark.ml import Pipeline\n",
    "\n"
   ]
  },
  {
   "cell_type": "code",
   "execution_count": 2,
   "id": "bebe2c61-91d4-42e9-9872-d55b841c0b25",
   "metadata": {},
   "outputs": [],
   "source": [
    "spark = SparkSession \\\n",
    ".builder \\\n",
    ".appName(\"cite\") \\\n",
    ".config(\"spark.memory.fraction\", 0.8) \\\n",
    ".config(\"spark.executor.memory\", \"14g\") \\\n",
    ".config(\"spark.driver.memory\", \"12g\")\\\n",
    ".config(\"spark.sql.shuffle.partitions\" , \"800\") \\\n",
    ".config(\"spark.driver.maxResultSize\",  0) \\\n",
    ".getOrCreate()\n",
    "\n",
    "sc = spark.sparkContext\n"
   ]
  },
  {
   "cell_type": "markdown",
   "id": "1eacad79-93d7-483a-9fe4-360e1365fa7f",
   "metadata": {},
   "source": [
    "# Loading Data onto Dataframes"
   ]
  },
  {
   "cell_type": "code",
   "execution_count": 3,
   "id": "46c99fef-b918-40ab-b690-9a88792da4dd",
   "metadata": {},
   "outputs": [],
   "source": [
    "# loading the schema as mentioned in the README \n",
    "papersSchema = StructType([\n",
    "    StructField(\"paper_id\", StringType(), False),\n",
    "    StructField(\"type\", StringType(), True),\n",
    "    StructField(\"journal\", StringType(), True),\n",
    "    StructField(\"book_title\", StringType(), True),\n",
    "    StructField(\"series\", StringType(), True),\n",
    "    StructField(\"publisher\", StringType(), True),\n",
    "    StructField(\"pages\", IntegerType(), True),\n",
    "    StructField(\"volume\", IntegerType(), True),\n",
    "    StructField(\"number\", IntegerType(), True),\n",
    "    StructField(\"year\", IntegerType(), True),\n",
    "    StructField(\"month\", IntegerType(), True),\n",
    "    StructField(\"postedat\", IntegerType(), True),\n",
    "    StructField(\"address\", StringType(), True),\n",
    "    StructField(\"title\", StringType(), True),\n",
    "    StructField(\"abstract\", StringType(), True)\n",
    "])\n",
    "# load csv data onto the DF\n",
    "papersDf = spark.read.csv(\"papers.csv\", header = False, schema = papersSchema).select('paper_id', 'abstract')\n",
    "\n",
    "papersTermsSchema = StructType([\n",
    "    StructField(\"paper_id\", IntegerType(), False),\n",
    "    StructField(\"terms\", StringType(), False)\n",
    "])\n",
    "\n",
    "# loading the users usersLibraries schema as mentioned in the README\n",
    "usersLibrariesSchema = StructType([\n",
    "    StructField(\"user_hash_id\", StringType(), False),\n",
    "    StructField(\"user_library\", StringType(), False)\n",
    "])\n",
    "# load data into dataframe\n",
    "usersLibrariesDf = spark.read.csv(\"users_libraries.txt\", sep = \";\", header = False, schema = usersLibrariesSchema)\n",
    "usersLibrariesDf = usersLibrariesDf.select(usersLibrariesDf.user_hash_id, \n",
    "                                           F.split(usersLibrariesDf.user_library,',').alias('user_library_arr'))"
   ]
  },
  {
   "cell_type": "markdown",
   "id": "0e460be5-7d5c-43e9-ac07-43c2fd483f40",
   "metadata": {},
   "source": [
    "# Advanced Analysis\n",
    "## Sparsity of the Rating Matrix\n",
    "The ratings matrix is a sparse matrix of size (number_users, number_items). The values are populated as 1 for the paper_ids for which user has given a rating as in usersLibrariesDf. Hence, the number of non zero entries per user is the size of the  The formula of calculation is as follows:"
   ]
  },
  {
   "cell_type": "markdown",
   "id": "493d6b93-986e-4f67-933b-3a4e8112fe60",
   "metadata": {},
   "source": [
    "$$sparsity = 1 - \\frac{number\\_of\\_non\\_zero\\_entries}{size\\_of\\_the\\_matrix}$$"
   ]
  },
  {
   "cell_type": "markdown",
   "id": "060f102b-dee3-4ec7-a997-557ed1a26ded",
   "metadata": {},
   "source": [
    "$$sparsity = 1 - \\frac{number\\_of\\_non\\_zero\\_entries}{(number\\_of\\_users)(number\\_of\\_items)}$$"
   ]
  },
  {
   "cell_type": "markdown",
   "id": "38b24891-0a6a-4d2c-bb2a-ed0999292dcd",
   "metadata": {},
   "source": [
    "The number\\_of\\_non\\_zero\\_entries is same as the the "
   ]
  },
  {
   "cell_type": "code",
   "execution_count": 4,
   "id": "3d804dcf-fabb-4fc7-968e-c8cca317c48b",
   "metadata": {},
   "outputs": [
    {
     "name": "stdout",
     "output_type": "stream",
     "text": [
      "Sparsity of the rank matrix: 0.9998305694442852\n"
     ]
    }
   ],
   "source": [
    "# generate and select a column containing the length (size) of the user library array - number of ratings given by each user\n",
    "usersRatingsCountsDf = usersLibrariesDf.select(F.size('user_library_arr').alias('number_ratings'))\n",
    "\n",
    "# the non-zero entries will be formed by user ratings - total number of user ratings = sum of all the ratings given by users \n",
    "number_of_non_zero_entries = usersRatingsCountsDf.agg({'number_ratings': 'sum'}).collect()[0][0]\n",
    "\n",
    "number_of_users = usersLibrariesDf.count()\n",
    "\n",
    "number_of_items = papersDf.count()\n",
    "\n",
    "sparsity = 1 - number_of_non_zero_entries/(number_of_users*number_of_items)\n",
    "print(f\"Sparsity of the rank matrix: {sparsity}\")"
   ]
  },
  {
   "cell_type": "markdown",
   "id": "19230c9a-6064-4026-9980-240480a1e66c",
   "metadata": {},
   "source": [
    "## rank-frequency distribution of users and ratings\n",
    "\n",
    "We already created a dataframe with the counts of ratings per user (usersRatingsCountsDf).\n",
    "To generate the rank, we will need to sort the dataframe wrt the number_ratings column in descending order \n"
   ]
  },
  {
   "cell_type": "code",
   "execution_count": 5,
   "id": "6b531f1e-c6fa-452a-9506-4dec27817c1c",
   "metadata": {
    "tags": []
   },
   "outputs": [
    {
     "data": {
      "text/plain": [
       "<AxesSubplot:>"
      ]
     },
     "execution_count": 5,
     "metadata": {},
     "output_type": "execute_result"
    },
    {
     "data": {
      "image/png": "[encoded data removed]",
      "text/plain": [
       "<Figure size 432x288 with 1 Axes>"
      ]
     },
     "metadata": {
      "needs_background": "light"
     },
     "output_type": "display_data"
    }
   ],
   "source": [
    "usersRatingsCountsDf.sort('number_ratings', ascending = False).toPandas().plot.line(y='number_ratings')"
   ]
  },
  {
   "cell_type": "markdown",
   "id": "0d2a0454-78a3-4cd1-a6c0-f1405f40f7db",
   "metadata": {},
   "source": [
    "## rank-frequency distribution of items and ratings\n"
   ]
  },
  {
   "cell_type": "code",
   "execution_count": 6,
   "id": "6d825c10-2903-49ce-91d4-d3201c8a28ea",
   "metadata": {},
   "outputs": [
    {
     "data": {
      "text/plain": [
       "<AxesSubplot:>"
      ]
     },
     "execution_count": 6,
     "metadata": {},
     "output_type": "execute_result"
    },
    {
     "data": {
      "image/png": "[encoded data removed]",
      "text/plain": [
       "<Figure size 432x288 with 1 Axes>"
      ]
     },
     "metadata": {
      "needs_background": "light"
     },
     "output_type": "display_data"
    }
   ],
   "source": [
    "# We first need to segregate the user library into individual rows containing each item \n",
    "explodedUsersLibrariesDf = usersLibrariesDf.select('user_hash_id', F.explode('user_library_arr').alias('item'))\n",
    "\n",
    "# We now need to generate a count of ratings recieved by each time \n",
    "# which is equal to the number of times the item appears in the dataframe\n",
    "itemRatingsCountDf = explodedUsersLibrariesDf.groupBy('item').count()\n",
    "\n",
    "# We now generate the rank by sorting the the dataframe in a descending order and plot the same \n",
    "itemRatingsCountDf.sort('count', ascending=False).toPandas().plot.line(y='count')"
   ]
  },
  {
   "cell_type": "markdown",
   "id": "54ebf21c-068b-454b-a7f9-ae5de4bd383a",
   "metadata": {},
   "source": [
    "<b>After plotting we clearly see a long tail representative of a power function</b>"
   ]
  },
  {
   "cell_type": "markdown",
   "id": "c8ebd8b7-fc21-4795-9ee7-b15a5b3893f8",
   "metadata": {},
   "source": [
    "# Ratings Matrix Preparation\n",
    "\n",
    "The ALS algorithm accepts only integer ids. Hence, we need to convert both user_hash_id and paper_id to integer ids. \n",
    "We now need to generate a ratingsMatrixDf contaning 1 against the paper_ids present in the user library and 0 for the rest of papers.\n",
    "\n",
    "To generate the paper_ids not in user library, we need to perform array difference between an array of all the paper_ids and the user_library_arr for each user.\n",
    "\n",
    "The list of all paper_ids is generated by the function collect_list which collects all the values of a column into a list. (in allPaperIdsDf)\n",
    "\n",
    "This list is added as the column 'all_paper_ids' into the papersDf by joining it with allPaperIdsDf.\n",
    "\n",
    "The negative_library (list of paper_ids not in to user_library_arr) is generated by calculating the difference between all_paper_ids column and user_library_arr. This is done using the spark aggregator function 'array_except'\n",
    "\n",
    "The positiveRatings are generated by exploding the user_library_arr into separate rows and rating all the paper_ids as 1. This is done using the spark function 'lit(1)' which adds a column to the dataframe and initializes it with the value 1 for every row in the dataframe.\n",
    "\n",
    "The negativeRatings are generated similarly by exploding the negative_library into separate rows and rating all the paper_ids as 0. \n",
    "\n",
    "ratingsMatrix can be calculated by generating a union of positiveRatings and negativeRatings, containing the 'rating' column with 1 and 0 respectively\n"
   ]
  },
  {
   "cell_type": "code",
   "execution_count": 7,
   "id": "f415cedf-855d-4348-b78b-9ffc6f24678e",
   "metadata": {},
   "outputs": [
    {
     "name": "stdout",
     "output_type": "stream",
     "text": [
      "+-------+------------+------+\n",
      "|user_id|paper_id_num|rating|\n",
      "+-------+------------+------+\n",
      "|   4471|       88743|     1|\n",
      "|   4471|      108106|     1|\n",
      "|   4471|      117759|     1|\n",
      "|   4471|       96609|     1|\n",
      "|   4471|      117145|     1|\n",
      "|   4471|      103092|     1|\n",
      "|   4471|      126282|     1|\n",
      "|   4471|      126283|     1|\n",
      "|   4471|      105418|     1|\n",
      "|   4471|       79790|     1|\n",
      "|   4471|       94546|     1|\n",
      "|   4471|       76595|     1|\n",
      "|   4471|      120297|     1|\n",
      "|   4471|       96617|     1|\n",
      "|   4471|      113456|     1|\n",
      "|   4471|      103276|     1|\n",
      "|   4471|      120440|     1|\n",
      "|   4471|       95307|     1|\n",
      "|   4471|      117898|     1|\n",
      "|   4471|      100321|     1|\n",
      "+-------+------------+------+\n",
      "only showing top 20 rows\n",
      "\n",
      "None\n"
     ]
    }
   ],
   "source": [
    "# A lookup table specifying a mapping from hash_id to the integer user_id\n",
    "userIdsLookupDf = usersLibrariesDf.select(\"user_hash_id\").distinct()\n",
    "w = Window.orderBy(\"user_hash_id\")\n",
    "userIdsLookupDf = userIdsLookupDf.withColumn(\"user_id\", F.row_number().over(w))\n",
    "\n",
    "# A lookup table for mapping the numerical paper ids (paper_id_num) to paper_id \n",
    "paperIdsLookupDf = papersDf.drop(\"abstract\").distinct()\n",
    "w = Window.orderBy(\"paper_id\")\n",
    "paperIdsLookupDf = paperIdsLookupDf.withColumn(\"paper_id_num\", F.row_number().over(w))\n",
    "\n",
    "# collecting all paper_ids from papersDf into a list as a single-element dataframe with column 'all_paper_ids'\n",
    "allPaperIdsDf = papersDf.select(F.collect_list('paper_id').alias('all_paper_ids'))\n",
    "\n",
    "# joining 'all_paper_ids' into the userLibrariesDf \n",
    "usersLibrariesAllDf = usersLibrariesDf.join(allPaperIdsDf)\n",
    "\n",
    "# creating negative_library with the paper_ids not in the user_library_arr\n",
    "usersLibrariesAllDf = usersLibrariesAllDf.withColumn('negative_library', F.array_except('all_paper_ids', 'user_library_arr'))\n",
    "usersLibrariesAllDf = usersLibrariesAllDf.drop('all_paper_ids')\n",
    "\n",
    "# user_hash_id, paper_id, rating (1 for every row)\n",
    "positiveRatingsDf = usersLibrariesAllDf.select('user_hash_id', F.explode('user_library_arr').alias('paper_id'), F.lit(1).alias('rating'))\n",
    "# user_hash_id, paper_id, rating (0 for every row)\n",
    "negativeRatingsDf = usersLibrariesAllDf.select('user_hash_id', F.explode('negative_library').alias('paper_id'), F.lit(0).alias('rating'))\n",
    "\n",
    "# user_hash_id, paper_id, rating (1 for paper_ids in user_library and 0 for others)\n",
    "ratingsMatrixDf = positiveRatingsDf.union(negativeRatingsDf)\n",
    "# user_id (integer user_hash_id), paper_id, rating\n",
    "ratingsMatrixDf = ratingsMatrixDf.join(userIdsLookupDf, ratingsMatrixDf.user_hash_id == userIdsLookupDf.user_hash_id).select('user_id', 'paper_id', 'rating')\n",
    "# user_id, paper_id_num (integer paper_id), rating \n",
    "ratingsMatrixDf = ratingsMatrixDf.join(paperIdsLookupDf, ratingsMatrixDf.paper_id == paperIdsLookupDf.paper_id).select('user_id', 'paper_id_num', 'rating')\n",
    "print(ratingsMatrixDf.show())"
   ]
  },
  {
   "cell_type": "markdown",
   "id": "fe142d10-e28e-4fa7-9c13-a634be5af87a",
   "metadata": {},
   "source": [
    "# ALS algorithm\n",
    "Fitting the als model and generating the recommendations for all users."
   ]
  },
  {
   "cell_type": "code",
   "execution_count": 1,
   "id": "3641bb3c-869e-4ca6-a6d7-531cf082ff1a",
   "metadata": {
    "tags": []
   },
   "outputs": [],
   "source": [
    "# Note we set cold start strategy to 'drop' to ensure we don't get NaN evaluation metrics\n",
    "als = ALS(maxIter=2, rank=10, regParam=0.01, userCol='user_id', itemCol='paper_id_num', ratingCol='rating', coldStartStrategy=\"drop\")\n",
    "\n",
    "model = als.fit(ratingsMatrixDf)\n",
    "\n",
    "usersRecommendations = model.recommendForAllUsers(10)"
   ]
  },
  {
   "cell_type": "markdown",
   "id": "4841382e-3fd0-4bb8-84ee-6546bdb46e77",
   "metadata": {},
   "source": [
    "In order to retrieve the recommendations, we need the user_id corresponding to the user_hash_id. We use the followng user_hash_id as an example"
   ]
  },
  {
   "cell_type": "code",
   "execution_count": null,
   "id": "d35361ff-06b7-42cc-83b2-49636b027677",
   "metadata": {},
   "outputs": [],
   "source": [
    "user_hash_id = \"1eac022a97d683eace8815545ce3153f\"\n",
    "\n",
    "# retrieve the user_id corresponding to the user_hash_id\n",
    "user_id = userIdsLookupDf.filter(userIdsLookupDf.user_hash_id == user_hash_id).select('user_id').first()[0]\n",
    "\n",
    "#retrieve the recommendations for the user with user_id\n",
    "print(usersRecommendations.filter(usersRecommendations.user_id == user_id).collect())"
   ]
  },
  {
   "cell_type": "markdown",
   "id": "98b7baa3-9506-4eaf-a816-40899be520e1",
   "metadata": {},
   "source": [
    "## Model Evaulation\n",
    "### Splitting into training and test sets"
   ]
  },
  {
   "cell_type": "code",
   "execution_count": null,
   "id": "b354a513-dc33-4a60-919a-4f85bc549a4d",
   "metadata": {},
   "outputs": [],
   "source": [
    "(trainingDf, testDf) = ratingsMatrixDf.randomSplit([0.7, 0.3])"
   ]
  },
  {
   "cell_type": "markdown",
   "id": "eb9036e9-22f4-4124-8733-3f11fc9cac31",
   "metadata": {},
   "source": [
    "### Fitting the model on the training set "
   ]
  },
  {
   "cell_type": "code",
   "execution_count": null,
   "id": "a3f2b43e-9dce-4b09-9779-4cf1cf391417",
   "metadata": {},
   "outputs": [],
   "source": [
    "ALSmodel = als.fit(trainingDf)"
   ]
  },
  {
   "cell_type": "markdown",
   "id": "05190d12-afc3-4b43-b4a9-bf8234c40bb8",
   "metadata": {},
   "source": [
    "### RMSE calculation\n",
    "Root mean square error (RMSE) is calculated by evaluating the model predictions on the testDf using the RegressionEvaluator."
   ]
  },
  {
   "cell_type": "code",
   "execution_count": null,
   "id": "186a8566-3d6c-43ba-9643-18acaafbf19c",
   "metadata": {},
   "outputs": [],
   "source": [
    "predictions = model.transform(testDf)\n",
    "evaluator = RegressionEvaluator(metricName=\"rmse\", labelCol=\"rating\",\n",
    "                                predictionCol=\"prediction\")\n",
    "rmse = evaluator.evaluate(predictions)\n",
    "print(f\"Root-mean-square error = {rmse} \")"
   ]
  },
  {
   "cell_type": "markdown",
   "id": "d97a1c45-4487-4498-aa5c-5f74c26e7011",
   "metadata": {},
   "source": [
    "##  Hyperparameter tuning "
   ]
  },
  {
   "cell_type": "code",
   "execution_count": null,
   "id": "ffaff160-1e1c-4420-adc4-b1b7860da08c",
   "metadata": {},
   "outputs": [],
   "source": [
    "# parameter grid fixing the predictionCol and maxIter with varying values for rank\n",
    "paramGrid = ParamGridBuilder() \\\n",
    "    .baseOn({als.predictionCol: 'prediction'})\\\n",
    "    .baseOn({als.maxIter: 2})\\\n",
    "    .addGrid(als.rank, [10,25,50]) \\\n",
    "    .build()\n",
    "\n",
    "# setting up cross validator with appropriate inputs\n",
    "crossval_rank = CrossValidator()  \n",
    "  .setEstimator(als)\n",
    "  .setEvaluator(evaluator)\n",
    "  .setEstimatorParamMaps(paramGrid)\n",
    "  .setNumFolds(5)\n",
    "\n",
    "# fitting the model on cross validator\n",
    "crossval_model_rank = crossval_rank.fit(trainingDf)\n",
    "\n",
    "# retrieving the best performing model and the corresponding rank\n",
    "best_model_rank = crossval_model_rank.bestModel\n",
    "best_rank = best_model.getRank()\n",
    "print(f\"The rank giving the best performnce: {best_rank}\")\n",
    "\n",
    "# evaluating the best model and computing rmse for it\n",
    "predictions = best_model_rank.transform(testDf)\n",
    "rmse = evaluator.evaluate(prediction)\n",
    "print(f\"The RMSE on the test dataframe using the best rank ({best_rank}): {rmse}\")"
   ]
  },
  {
   "cell_type": "markdown",
   "id": "a1ef71c6-20f1-4e16-981d-d8762e6f2091",
   "metadata": {},
   "source": [
    "\n",
    "Fixing rank to the best value obtained in the previous step and increasing maxIter.\n"
   ]
  },
  {
   "cell_type": "code",
   "execution_count": null,
   "id": "2ebb4a73-9e31-4e4f-bca7-658128e85db3",
   "metadata": {},
   "outputs": [],
   "source": [
    "paramGridMaxIter = ParamGridBuilder() \\\n",
    "    .baseOn({als.predictionCol: 'prediction'}) \\\n",
    "    .baseOn({als.rank: best_rank}) \\\n",
    "    .addGrid(als.maxIter, [2,3,4,5]) \\\n",
    "    .build()\n",
    "   \n",
    "crossval_maxIter = CrossValidator()  \n",
    "  .setEstimator(als)\n",
    "  .setEvaluator(evaluator)\n",
    "  .setEstimatorParamMaps(paramGridMaxIter)\n",
    "  .setNumFolds(5)\n",
    "\n",
    "crossval_model_maxIter = crossval_maxIter.fit(trainingDf)\n",
    "\n",
    "best_model_maxIter = crossval_model_rank.bestModel\n",
    "best_maxIter = best_model.getRank()"
   ]
  },
  {
   "cell_type": "markdown",
   "id": "38ca3fcb-7df0-4a77-9020-6c637789869d",
   "metadata": {},
   "source": [
    "<b>Increasing the maxIter doesn't have any effect on the performance.</b>"
   ]
  }
 ],
 "metadata": {
  "kernelspec": {
   "display_name": "Python 3",
   "language": "python",
   "name": "python3"
  },
  "language_info": {
   "codemirror_mode": {
    "name": "ipython",
    "version": 3
   },
   "file_extension": ".py",
   "mimetype": "text/x-python",
   "name": "python",
   "nbconvert_exporter": "python",
   "pygments_lexer": "ipython3",
   "version": "3.8.8"
  }
 },
 "nbformat": 4,
 "nbformat_minor": 5
}
